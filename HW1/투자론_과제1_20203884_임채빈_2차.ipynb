{
 "cells": [
  {
   "cell_type": "markdown",
   "metadata": {},
   "source": [
    "## 시작하기 전에 ...\n",
    "### cmd 창에 pip install ksif를 해주어야 함!\n",
    "#### Jupyter Notebook에서 바로 다운로드 하려면?? 코드 치는 부분에서 !pip install ksif 하면 됨!"
   ]
  },
  {
   "cell_type": "code",
   "execution_count": 98,
   "metadata": {},
   "outputs": [],
   "source": [
    "import math\n",
    "import numpy as np\n",
    "import pandas as pd\n",
    "from IPython.core.interactiveshell import InteractiveShell\n",
    "from scipy.optimize import minimize_scalar\n",
    "import matplotlib.pyplot as plt\n",
    "from datetime import datetime\n",
    "import ksif\n",
    "from ksif import Portfolio\n",
    "import random\n",
    "InteractiveShell.ast_node_interactivity = \"all\"\n",
    "%matplotlib inline\n",
    "pd.set_option('display.max_columns', 500)"
   ]
  },
  {
   "cell_type": "code",
   "execution_count": 99,
   "metadata": {},
   "outputs": [],
   "source": [
    "pf = Portfolio()"
   ]
  },
  {
   "cell_type": "code",
   "execution_count": 100,
   "metadata": {},
   "outputs": [],
   "source": [
    "name1 = '삼성전자'\n",
    "name2 = 'NAVER'\n",
    "name3 = 'SK하이닉스'"
   ]
  },
  {
   "cell_type": "code",
   "execution_count": 101,
   "metadata": {},
   "outputs": [],
   "source": [
    "data1 = pf[pf['firmname'] == name1]\n",
    "data2 = pf[pf['firmname'] == name2]\n",
    "data3 = pf[pf['firmname'] == name3]"
   ]
  },
  {
   "cell_type": "code",
   "execution_count": 102,
   "metadata": {
    "scrolled": true
   },
   "outputs": [],
   "source": [
    "data1 = data1[data1['date'] > datetime(2015, 4, 1)]\n",
    "data2 = data2[data2['date'] > datetime(2015, 4, 1)]\n",
    "data3 = data3[data3['date'] > datetime(2015, 4, 1)]"
   ]
  },
  {
   "cell_type": "code",
   "execution_count": 103,
   "metadata": {},
   "outputs": [
    {
     "data": {
      "text/plain": [
       "60"
      ]
     },
     "execution_count": 103,
     "metadata": {},
     "output_type": "execute_result"
    },
    {
     "data": {
      "text/plain": [
       "60"
      ]
     },
     "execution_count": 103,
     "metadata": {},
     "output_type": "execute_result"
    },
    {
     "data": {
      "text/plain": [
       "60"
      ]
     },
     "execution_count": 103,
     "metadata": {},
     "output_type": "execute_result"
    }
   ],
   "source": [
    "# 구해야 하는 것. \n",
    "#1. expected return (평균 return)\n",
    "#2. 주가의 표준편차(시그마)\n",
    "#3. Covariance\n",
    "#4. Risk-free rate\n",
    "filtered_data1 = pd.DataFrame()\n",
    "filtered_data1['firmname'] = data1['firmname']\n",
    "filtered_data1['date'] = data1['date']\n",
    "filtered_data1['ret'] = data1['ret']\n",
    "\n",
    "filtered_data2 = pd.DataFrame()\n",
    "filtered_data2['firmname'] = data2['firmname']\n",
    "filtered_data2['date'] = data2['date']\n",
    "filtered_data2['ret'] = data2['ret']\n",
    "\n",
    "filtered_data3 = pd.DataFrame()\n",
    "filtered_data3['firmname'] = data3['firmname']\n",
    "filtered_data3['date'] = data3['date']\n",
    "filtered_data3['ret'] = data3['ret']\n",
    "\n",
    "#filtered_data1 = data1[['firmname', 'date', 'ret']]\n",
    "#filtered_data2 = data2[['firmname', 'date', 'ret']]\n",
    "#filtered_data3 = data3[['firmname', 'date', 'ret']]\n",
    "len(filtered_data1)\n",
    "len(filtered_data2)\n",
    "len(filtered_data3)"
   ]
  },
  {
   "cell_type": "code",
   "execution_count": 104,
   "metadata": {},
   "outputs": [],
   "source": [
    "# 각 주식 별 평균\n",
    "expected_return1 = data1['ret'].mean()\n",
    "expected_return2 = data2['ret'].mean()\n",
    "expected_return3 = data3['ret'].mean()\n",
    "\n",
    "# Annualized arithmatic returns for each stocks - a번 정답\n",
    "Annual_average_return1 = expected_return1*12\n",
    "Annual_average_return2 = expected_return2*12\n",
    "Annual_average_return3 = expected_return3*12\n",
    "\n",
    "# 각 주식 별 분산\n",
    "volatility1 = math.sqrt(data1['ret'].var())\n",
    "volatility2 = math.sqrt(data2['ret'].var())\n",
    "volatility3 = math.sqrt(data3['ret'].var())\n",
    "\n",
    "# Annualized standard deviation for each stocks - b번 정답\n",
    "Annual_sd1 = volatility1 * math.sqrt(12)\n",
    "Annual_sd2 = volatility2 * math.sqrt(12)\n",
    "Annual_sd3 = volatility3 * math.sqrt(12)"
   ]
  },
  {
   "cell_type": "code",
   "execution_count": 105,
   "metadata": {},
   "outputs": [],
   "source": [
    "# 공분산 구하기\n",
    "filtered_data1.reset_index(inplace = True) \n",
    "filtered_data2.reset_index(inplace = True) \n",
    "filtered_data3.reset_index(inplace = True) \n",
    "corr12 = filtered_data1['ret'].corr(filtered_data2['ret'])\n",
    "corr23 = filtered_data2['ret'].corr(filtered_data3['ret'])\n",
    "corr13 = filtered_data3['ret'].corr(filtered_data1['ret'])"
   ]
  },
  {
   "cell_type": "code",
   "execution_count": 106,
   "metadata": {},
   "outputs": [],
   "source": [
    "# input\n",
    "risk_free_ratio = 0.00002 #이건 일단 임의로 설정.\n",
    "total_return = np.array([expected_return1, expected_return2, expected_return3])\n",
    "std = np.array([volatility1, volatility2, volatility3])\n",
    "rho = np.array([corr12, corr23, corr13]) #상관계수"
   ]
  },
  {
   "cell_type": "code",
   "execution_count": 107,
   "metadata": {},
   "outputs": [
    {
     "data": {
      "text/plain": [
       "array([0.01117883, 0.00737117, 0.0140841 ])"
      ]
     },
     "execution_count": 107,
     "metadata": {},
     "output_type": "execute_result"
    }
   ],
   "source": [
    "risk_premium = total_return - risk_free_ratio\n",
    "risk_premium = np.array(risk_premium)\n",
    "risk_premium"
   ]
  },
  {
   "cell_type": "code",
   "execution_count": 108,
   "metadata": {},
   "outputs": [],
   "source": [
    "corrm = np.array([[1, rho[0],rho[2]],[rho[0],1,rho[1]],[rho[2], rho[1],1]])\n",
    "sdm = np.zeros((3,3))"
   ]
  },
  {
   "cell_type": "code",
   "execution_count": 109,
   "metadata": {},
   "outputs": [],
   "source": [
    "sdm[0][0] = std[0]\n",
    "sdm[1][1] = std[1]\n",
    "sdm[2][2] = std[2]"
   ]
  },
  {
   "cell_type": "code",
   "execution_count": 110,
   "metadata": {},
   "outputs": [],
   "source": [
    "def np_vcov_matrix(sdm, corrm): #분산-공분산 행렬 구하는 함수\n",
    "    return (sdm.dot(corrm)).dot(sdm)\n",
    "vcov = np_vcov_matrix(sdm, corrm) "
   ]
  },
  {
   "cell_type": "code",
   "execution_count": 111,
   "metadata": {},
   "outputs": [
    {
     "data": {
      "text/plain": [
       "array([[0.00502748, 0.00238408, 0.00336673],\n",
       "       [0.00238408, 0.0073782 , 0.00094084],\n",
       "       [0.00336673, 0.00094084, 0.00822872]])"
      ]
     },
     "execution_count": 111,
     "metadata": {},
     "output_type": "execute_result"
    }
   ],
   "source": [
    "vcov"
   ]
  },
  {
   "cell_type": "code",
   "execution_count": 112,
   "metadata": {},
   "outputs": [],
   "source": [
    "# sharp ratio 계산\n",
    "sharp_ratio = []\n",
    "for i in range(len(std)):\n",
    "    sharp_ratio.append(risk_premium[i]/std[i])\n",
    "sharp_ratio = np.array(sharp_ratio)"
   ]
  },
  {
   "cell_type": "code",
   "execution_count": 113,
   "metadata": {},
   "outputs": [],
   "source": [
    "# Mean-Variance Frontier\n",
    "w1_range = []\n",
    "p_std = []\n",
    "p_mean = []\n",
    "_max = 100\n",
    "for i in range(0, _max+1, 1):\n",
    "    w1_range.append(i/_max)\n",
    "w1_N = len(w1_range)\n",
    "w_ratio = []\n",
    "for i in range(len(w1_range)):\n",
    "    for j in range(len(w1_range)):\n",
    "        a = w1_range[i]\n",
    "        b = w1_range[j]\n",
    "        c = 1 - a - b\n",
    "        if(c < 0):\n",
    "            continue\n",
    "        else:\n",
    "            w_ratio.append([a, b, c])\n",
    "for i in range(len(w_ratio)):\n",
    "    for j in range(3):\n",
    "        w_ratio[i][j] = w_ratio[i][j]\n",
    "for i in range(0, len(w_ratio), 10):\n",
    "    p_mean.append(np.array(w_ratio[i]).dot(np.transpose(total_return)))\n",
    "    p_std.append(math.sqrt(np.array(w_ratio[i]).dot(vcov).dot(np.transpose(np.array(w_ratio[i])))))"
   ]
  },
  {
   "cell_type": "code",
   "execution_count": 114,
   "metadata": {},
   "outputs": [],
   "source": [
    "def res_func(a, b):\n",
    "    mean = np.array([a, b, 1-a-b]).dot(np.transpose(total_return))\n",
    "    std = math.sqrt((np.array([a, b, 1-a-b]).dot(vcov)).dot(np.transpose(np.array([a, b, 1-a-b]))))\n",
    "    sharp = (mean-risk_free_ratio)/std\n",
    "    return sharp, mean, std\n",
    "\n",
    "result_a = 0\n",
    "result_b = 0\n",
    "result_sharp = 0\n",
    "result_mean = 0\n",
    "result_std = 0\n",
    "for i in range(len(w_ratio)):\n",
    "    cand_sharp, cand_mean, cand_std = res_func(w_ratio[i][0], w_ratio[i][1])\n",
    "    if(cand_sharp > result_sharp):\n",
    "        result_sharp = cand_sharp\n",
    "        result_a = w_ratio[i][0]\n",
    "        result_b = w_ratio[i][1]\n",
    "        result_mean = cand_mean\n",
    "        result_std = cand_std"
   ]
  },
  {
   "cell_type": "code",
   "execution_count": 115,
   "metadata": {},
   "outputs": [],
   "source": [
    "line = np.array(p_std)*result_sharp"
   ]
  },
  {
   "cell_type": "code",
   "execution_count": 116,
   "metadata": {
    "scrolled": false
   },
   "outputs": [
    {
     "data": {
      "text/plain": [
       "Text(0.5, 0.98, 'Efficient Frontier & Optimal Line')"
      ]
     },
     "execution_count": 116,
     "metadata": {},
     "output_type": "execute_result"
    },
    {
     "data": {
      "text/plain": [
       "Text(0.5, 0, 'Standard Deviation')"
      ]
     },
     "execution_count": 116,
     "metadata": {},
     "output_type": "execute_result"
    },
    {
     "data": {
      "text/plain": [
       "Text(0, 0.5, 'Expected Return')"
      ]
     },
     "execution_count": 116,
     "metadata": {},
     "output_type": "execute_result"
    },
    {
     "data": {
      "text/plain": [
       "<matplotlib.collections.PathCollection at 0x1489b48d0>"
      ]
     },
     "execution_count": 116,
     "metadata": {},
     "output_type": "execute_result"
    },
    {
     "data": {
      "text/plain": [
       "[<matplotlib.lines.Line2D at 0x1489b4908>]"
      ]
     },
     "execution_count": 116,
     "metadata": {},
     "output_type": "execute_result"
    },
    {
     "data": {
      "text/plain": [
       "<matplotlib.legend.Legend at 0x1489b4cf8>"
      ]
     },
     "execution_count": 116,
     "metadata": {},
     "output_type": "execute_result"
    },
    {
     "data": {
      "image/png": "[encoded data removed]",
      "text/plain": [
       "<Figure size 576x432 with 1 Axes>"
      ]
     },
     "metadata": {
      "needs_background": "light"
     },
     "output_type": "display_data"
    }
   ],
   "source": [
    "x = p_std\n",
    "y1 = p_mean\n",
    "y2 = line\n",
    "fig, ax = plt.subplots(1, figsize=(8, 6))\n",
    "fig.suptitle('Efficient Frontier & Optimal Line', fontsize=15)\n",
    "#plt.xlim(0, 0.15)\n",
    "#plt.ylim(0, 0.02)\n",
    "plt.xlabel('Standard Deviation')\n",
    "plt.ylabel('Expected Return')\n",
    "ax.scatter(x, y1, color = 'blue', label=\"Line 1\", s = 0.5)\n",
    "ax.plot(x, y2, color = 'red', label=\"Line 2\")\n",
    "plt.legend(loc=\"lower right\", title=\"Line title\", frameon=False)\n",
    "plt.show()"
   ]
  },
  {
   "cell_type": "code",
   "execution_count": 117,
   "metadata": {},
   "outputs": [
    {
     "data": {
      "text/plain": [
       "0.18277610133317448"
      ]
     },
     "execution_count": 117,
     "metadata": {},
     "output_type": "execute_result"
    },
    {
     "data": {
      "text/plain": [
       "0.43"
      ]
     },
     "execution_count": 117,
     "metadata": {},
     "output_type": "execute_result"
    },
    {
     "data": {
      "text/plain": [
       "0.16"
      ]
     },
     "execution_count": 117,
     "metadata": {},
     "output_type": "execute_result"
    },
    {
     "data": {
      "text/plain": [
       "0.011780765897063526"
      ]
     },
     "execution_count": 117,
     "metadata": {},
     "output_type": "execute_result"
    },
    {
     "data": {
      "text/plain": [
       "0.06434520602682813"
      ]
     },
     "execution_count": 117,
     "metadata": {},
     "output_type": "execute_result"
    }
   ],
   "source": [
    "result_sharp\n",
    "result_a\n",
    "result_b\n",
    "result_mean\n",
    "result_std"
   ]
  },
  {
   "cell_type": "code",
   "execution_count": 118,
   "metadata": {},
   "outputs": [
    {
     "name": "stdout",
     "output_type": "stream",
     "text": [
      "Optimal portfolio weights : 0.43, 0.16, 0.41\n",
      "Return for optimal portfolio : 0.01180\n",
      "Standard Deviation for optimal portfolio: 0.06435\n",
      "Sharp Ratio for optimal portfolio : 0.18278\n"
     ]
    }
   ],
   "source": [
    "print(\"Optimal portfolio weights : %.2f, %.2f, %.2f\\nReturn for optimal portfolio : %.5f\\nStandard Deviation for optimal portfolio: %.5f\\nSharp Ratio for optimal portfolio : %.5f\" \n",
    "      %(result_a, result_b, 1-result_a-result_b, result_mean + risk_free_ratio, result_std, result_sharp))"
   ]
  },
  {
   "cell_type": "code",
   "execution_count": null,
   "metadata": {},
   "outputs": [],
   "source": []
  },
  {
   "cell_type": "markdown",
   "metadata": {},
   "source": [
    "# e번 문제 풀기"
   ]
  },
  {
   "cell_type": "code",
   "execution_count": 119,
   "metadata": {},
   "outputs": [],
   "source": [
    "# Mean-Variance Frontier\n",
    "w1_range2 = []\n",
    "p_std2 = []\n",
    "p_mean2 = []\n",
    "_max = 100\n",
    "for i in range(20, _max+1, 1):\n",
    "    w1_range2.append(i/_max)\n",
    "w1_N2 = len(w1_range2)\n",
    "w_ratio2 = []\n",
    "for i in range(len(w1_range2)):\n",
    "    for j in range(len(w1_range2)):\n",
    "        a = w1_range2[i]\n",
    "        b = w1_range2[j]\n",
    "        c = 1 - a - b\n",
    "        if(c < 0 or c < 0.2):\n",
    "            continue\n",
    "        else:\n",
    "            w_ratio2.append([a, b, c])\n",
    "for i in range(len(w_ratio2)):\n",
    "    for j in range(3):\n",
    "        w_ratio2[i][j] = w_ratio2[i][j]\n",
    "for i in range(0, len(w_ratio2), 10):\n",
    "    p_mean2.append(np.array(w_ratio2[i]).dot(np.transpose(risk_premium)))\n",
    "    p_std2.append(math.sqrt(np.array(w_ratio2[i]).dot(vcov).dot(np.transpose(np.array(w_ratio2[i])))))"
   ]
  },
  {
   "cell_type": "code",
   "execution_count": 120,
   "metadata": {},
   "outputs": [],
   "source": [
    "result_a2 = 0\n",
    "result_b2 = 0\n",
    "result_sharp2 = 0\n",
    "result_mean2 = 0\n",
    "result_std2 = 0\n",
    "for i in range(len(w_ratio2)):\n",
    "    cand_sharp, cand_mean, cand_std = res_func(w_ratio2[i][0], w_ratio2[i][1])\n",
    "    if(cand_sharp > result_sharp2):\n",
    "        result_sharp2 = cand_sharp\n",
    "        result_a2 = w_ratio2[i][0]\n",
    "        result_b2 = w_ratio2[i][1]\n",
    "        result_mean2 = cand_mean\n",
    "        result_std2 = cand_std"
   ]
  },
  {
   "cell_type": "code",
   "execution_count": 121,
   "metadata": {},
   "outputs": [],
   "source": [
    "line2 = np.array(p_std2)*result_sharp2"
   ]
  },
  {
   "cell_type": "code",
   "execution_count": 122,
   "metadata": {},
   "outputs": [
    {
     "data": {
      "text/plain": [
       "Text(0.5, 0.98, 'Efficient Frontier & Optimal Line')"
      ]
     },
     "execution_count": 122,
     "metadata": {},
     "output_type": "execute_result"
    },
    {
     "data": {
      "text/plain": [
       "Text(0.5, 0, 'Standard Deviation')"
      ]
     },
     "execution_count": 122,
     "metadata": {},
     "output_type": "execute_result"
    },
    {
     "data": {
      "text/plain": [
       "Text(0, 0.5, 'Expected Return')"
      ]
     },
     "execution_count": 122,
     "metadata": {},
     "output_type": "execute_result"
    },
    {
     "data": {
      "text/plain": [
       "<matplotlib.collections.PathCollection at 0x148a37d30>"
      ]
     },
     "execution_count": 122,
     "metadata": {},
     "output_type": "execute_result"
    },
    {
     "data": {
      "text/plain": [
       "[<matplotlib.lines.Line2D at 0x148a37d68>]"
      ]
     },
     "execution_count": 122,
     "metadata": {},
     "output_type": "execute_result"
    },
    {
     "data": {
      "text/plain": [
       "<matplotlib.legend.Legend at 0x148b15198>"
      ]
     },
     "execution_count": 122,
     "metadata": {},
     "output_type": "execute_result"
    },
    {
     "data": {
      "image/png": "[encoded data removed]",
      "text/plain": [
       "<Figure size 576x432 with 1 Axes>"
      ]
     },
     "metadata": {
      "needs_background": "light"
     },
     "output_type": "display_data"
    }
   ],
   "source": [
    "x = p_std2\n",
    "y1 = p_mean2\n",
    "y2 = line2\n",
    "fig, ax = plt.subplots(1, figsize=(8, 6))\n",
    "fig.suptitle('Efficient Frontier & Optimal Line', fontsize=15)\n",
    "#plt.xlim(0.03, 0.12)\n",
    "#plt.ylim(0.005, 0.0175)\n",
    "plt.xlabel('Standard Deviation')\n",
    "plt.ylabel('Expected Return')\n",
    "ax.scatter(x, y1, color = 'blue', label=\"Line 1\", s = 0.5)\n",
    "ax.plot(x, y2, color = 'red', label=\"Line 2\")\n",
    "plt.legend(loc=\"lower right\", title=\"Line title\", frameon=False)\n",
    "plt.show()"
   ]
  },
  {
   "cell_type": "code",
   "execution_count": 123,
   "metadata": {},
   "outputs": [
    {
     "name": "stdout",
     "output_type": "stream",
     "text": [
      "Optimal portfolio weights : 0.40, 0.20, 0.40\n",
      "Return for optimal portfolio : 0.01162\n",
      "Standard Deviation for optimal portfolio: 0.06345\n",
      "Sharp Ratio for optimal portfolio : 0.18251\n"
     ]
    }
   ],
   "source": [
    "print(\"Optimal portfolio weights : %.2f, %.2f, %.2f\\nReturn for optimal portfolio : %.5f\\nStandard Deviation for optimal portfolio: %.5f\\nSharp Ratio for optimal portfolio : %.5f\" \n",
    "      %(result_a2, result_b2, 1-result_a2-result_b2, result_mean2 + risk_free_ratio, result_std2, result_sharp2))"
   ]
  },
  {
   "cell_type": "markdown",
   "metadata": {},
   "source": [
    "# f. VaR(Value at Risk) & ES(Expected Shortfall)"
   ]
  },
  {
   "cell_type": "markdown",
   "metadata": {},
   "source": [
    "### 여기서 회사별 데이터의 갯수가 60개이니, 5%를 구하려면 작은 순 3개를 기준으로 보면 됨.\n",
    "VaR의 경우에는 정규분포라고 가정하였으니, VaR[a%] = E[r] + z*sigma를 하면 됨.\n",
    "ES의 경우에는 1~3번째의 평균을 보면 됨"
   ]
  },
  {
   "cell_type": "code",
   "execution_count": 124,
   "metadata": {},
   "outputs": [],
   "source": [
    "total_data = pd.DataFrame()\n",
    "total_data['A'] = filtered_data1['ret']\n",
    "total_data['B'] = filtered_data2['ret']\n",
    "total_data['C'] = filtered_data3['ret']\n",
    "total_data['pf'] = result_a*total_data['A'] + result_b*total_data['B'] + (1-result_a-result_b)*total_data['C']"
   ]
  },
  {
   "cell_type": "code",
   "execution_count": 125,
   "metadata": {},
   "outputs": [
    {
     "data": {
      "text/html": [
       "<div>\n",
       "<style scoped>\n",
       "    .dataframe tbody tr th:only-of-type {\n",
       "        vertical-align: middle;\n",
       "    }\n",
       "\n",
       "    .dataframe tbody tr th {\n",
       "        vertical-align: top;\n",
       "    }\n",
       "\n",
       "    .dataframe thead th {\n",
       "        text-align: right;\n",
       "    }\n",
       "</style>\n",
       "<table border=\"1\" class=\"dataframe\">\n",
       "  <thead>\n",
       "    <tr style=\"text-align: right;\">\n",
       "      <th></th>\n",
       "      <th>A</th>\n",
       "      <th>B</th>\n",
       "      <th>C</th>\n",
       "      <th>pf</th>\n",
       "    </tr>\n",
       "  </thead>\n",
       "  <tbody>\n",
       "    <tr>\n",
       "      <th>0</th>\n",
       "      <td>-0.021513</td>\n",
       "      <td>-3.129657e-02</td>\n",
       "      <td>1.317234e-02</td>\n",
       "      <td>-0.008857</td>\n",
       "    </tr>\n",
       "    <tr>\n",
       "      <th>1</th>\n",
       "      <td>-0.073050</td>\n",
       "      <td>-6.307692e-02</td>\n",
       "      <td>1.072589e-01</td>\n",
       "      <td>0.002473</td>\n",
       "    </tr>\n",
       "    <tr>\n",
       "      <th>2</th>\n",
       "      <td>-0.029839</td>\n",
       "      <td>4.105090e-02</td>\n",
       "      <td>-1.722114e-01</td>\n",
       "      <td>-0.076869</td>\n",
       "    </tr>\n",
       "    <tr>\n",
       "      <th>3</th>\n",
       "      <td>-0.065457</td>\n",
       "      <td>-1.750789e-01</td>\n",
       "      <td>-1.229314e-01</td>\n",
       "      <td>-0.106561</td>\n",
       "    </tr>\n",
       "    <tr>\n",
       "      <th>4</th>\n",
       "      <td>-0.081013</td>\n",
       "      <td>-5.258126e-02</td>\n",
       "      <td>-3.504043e-02</td>\n",
       "      <td>-0.057615</td>\n",
       "    </tr>\n",
       "    <tr>\n",
       "      <th>5</th>\n",
       "      <td>0.041322</td>\n",
       "      <td>3.531786e-02</td>\n",
       "      <td>-6.284916e-02</td>\n",
       "      <td>-0.002349</td>\n",
       "    </tr>\n",
       "    <tr>\n",
       "      <th>6</th>\n",
       "      <td>0.209877</td>\n",
       "      <td>1.695906e-01</td>\n",
       "      <td>-8.494784e-02</td>\n",
       "      <td>0.082553</td>\n",
       "    </tr>\n",
       "    <tr>\n",
       "      <th>7</th>\n",
       "      <td>-0.064140</td>\n",
       "      <td>5.166667e-02</td>\n",
       "      <td>2.931596e-02</td>\n",
       "      <td>-0.007294</td>\n",
       "    </tr>\n",
       "    <tr>\n",
       "      <th>8</th>\n",
       "      <td>-0.018692</td>\n",
       "      <td>4.278922e-02</td>\n",
       "      <td>-2.689873e-02</td>\n",
       "      <td>-0.012220</td>\n",
       "    </tr>\n",
       "    <tr>\n",
       "      <th>9</th>\n",
       "      <td>-0.087302</td>\n",
       "      <td>-4.559271e-02</td>\n",
       "      <td>-1.121951e-01</td>\n",
       "      <td>-0.090835</td>\n",
       "    </tr>\n",
       "    <tr>\n",
       "      <th>10</th>\n",
       "      <td>0.024348</td>\n",
       "      <td>-8.917197e-02</td>\n",
       "      <td>9.890110e-02</td>\n",
       "      <td>0.036751</td>\n",
       "    </tr>\n",
       "    <tr>\n",
       "      <th>11</th>\n",
       "      <td>0.113752</td>\n",
       "      <td>1.136364e-01</td>\n",
       "      <td>-6.166667e-02</td>\n",
       "      <td>0.041812</td>\n",
       "    </tr>\n",
       "    <tr>\n",
       "      <th>12</th>\n",
       "      <td>-0.051067</td>\n",
       "      <td>6.279435e-02</td>\n",
       "      <td>2.220446e-16</td>\n",
       "      <td>-0.011912</td>\n",
       "    </tr>\n",
       "    <tr>\n",
       "      <th>13</th>\n",
       "      <td>0.037751</td>\n",
       "      <td>6.351551e-02</td>\n",
       "      <td>1.953819e-02</td>\n",
       "      <td>0.034406</td>\n",
       "    </tr>\n",
       "    <tr>\n",
       "      <th>14</th>\n",
       "      <td>0.102941</td>\n",
       "      <td>-1.388889e-02</td>\n",
       "      <td>1.289199e-01</td>\n",
       "      <td>0.094900</td>\n",
       "    </tr>\n",
       "    <tr>\n",
       "      <th>15</th>\n",
       "      <td>0.080000</td>\n",
       "      <td>2.220446e-16</td>\n",
       "      <td>6.172840e-02</td>\n",
       "      <td>0.059709</td>\n",
       "    </tr>\n",
       "    <tr>\n",
       "      <th>16</th>\n",
       "      <td>0.052632</td>\n",
       "      <td>1.901408e-01</td>\n",
       "      <td>5.959302e-02</td>\n",
       "      <td>0.077487</td>\n",
       "    </tr>\n",
       "    <tr>\n",
       "      <th>17</th>\n",
       "      <td>-0.013580</td>\n",
       "      <td>4.497041e-02</td>\n",
       "      <td>1.028807e-01</td>\n",
       "      <td>0.043537</td>\n",
       "    </tr>\n",
       "    <tr>\n",
       "      <th>18</th>\n",
       "      <td>0.025657</td>\n",
       "      <td>-2.944507e-02</td>\n",
       "      <td>1.990050e-02</td>\n",
       "      <td>0.014481</td>\n",
       "    </tr>\n",
       "    <tr>\n",
       "      <th>19</th>\n",
       "      <td>0.065284</td>\n",
       "      <td>-6.884481e-02</td>\n",
       "      <td>4.634146e-02</td>\n",
       "      <td>0.036057</td>\n",
       "    </tr>\n",
       "    <tr>\n",
       "      <th>20</th>\n",
       "      <td>0.032073</td>\n",
       "      <td>-2.882206e-02</td>\n",
       "      <td>4.195804e-02</td>\n",
       "      <td>0.026383</td>\n",
       "    </tr>\n",
       "    <tr>\n",
       "      <th>21</th>\n",
       "      <td>0.094895</td>\n",
       "      <td>-2.193548e-02</td>\n",
       "      <td>2.013423e-01</td>\n",
       "      <td>0.119845</td>\n",
       "    </tr>\n",
       "    <tr>\n",
       "      <th>22</th>\n",
       "      <td>-0.025849</td>\n",
       "      <td>2.374670e-02</td>\n",
       "      <td>-1.303538e-01</td>\n",
       "      <td>-0.060761</td>\n",
       "    </tr>\n",
       "    <tr>\n",
       "      <th>23</th>\n",
       "      <td>0.071800</td>\n",
       "      <td>1.018041e-01</td>\n",
       "      <td>8.137045e-02</td>\n",
       "      <td>0.080525</td>\n",
       "    </tr>\n",
       "    <tr>\n",
       "      <th>24</th>\n",
       "      <td>0.083010</td>\n",
       "      <td>-6.432749e-02</td>\n",
       "      <td>6.930693e-02</td>\n",
       "      <td>0.053818</td>\n",
       "    </tr>\n",
       "    <tr>\n",
       "      <th>25</th>\n",
       "      <td>0.001793</td>\n",
       "      <td>5.625000e-02</td>\n",
       "      <td>5.555556e-02</td>\n",
       "      <td>0.032549</td>\n",
       "    </tr>\n",
       "    <tr>\n",
       "      <th>26</th>\n",
       "      <td>0.063535</td>\n",
       "      <td>-8.284024e-03</td>\n",
       "      <td>1.824561e-01</td>\n",
       "      <td>0.100801</td>\n",
       "    </tr>\n",
       "    <tr>\n",
       "      <th>27</th>\n",
       "      <td>0.013883</td>\n",
       "      <td>-4.176611e-02</td>\n",
       "      <td>-2.077151e-02</td>\n",
       "      <td>-0.009229</td>\n",
       "    </tr>\n",
       "    <tr>\n",
       "      <th>28</th>\n",
       "      <td>-0.039004</td>\n",
       "      <td>-5.977584e-02</td>\n",
       "      <td>3.939394e-02</td>\n",
       "      <td>-0.010184</td>\n",
       "    </tr>\n",
       "    <tr>\n",
       "      <th>29</th>\n",
       "      <td>0.107081</td>\n",
       "      <td>-1.324503e-02</td>\n",
       "      <td>2.084548e-01</td>\n",
       "      <td>0.129392</td>\n",
       "    </tr>\n",
       "    <tr>\n",
       "      <th>30</th>\n",
       "      <td>0.074103</td>\n",
       "      <td>2.000000e-01</td>\n",
       "      <td>-8.443908e-03</td>\n",
       "      <td>0.060402</td>\n",
       "    </tr>\n",
       "    <tr>\n",
       "      <th>31</th>\n",
       "      <td>-0.077705</td>\n",
       "      <td>-1.051454e-01</td>\n",
       "      <td>-6.569343e-02</td>\n",
       "      <td>-0.077171</td>\n",
       "    </tr>\n",
       "    <tr>\n",
       "      <th>32</th>\n",
       "      <td>0.003150</td>\n",
       "      <td>8.750000e-02</td>\n",
       "      <td>-3.906250e-03</td>\n",
       "      <td>0.013753</td>\n",
       "    </tr>\n",
       "    <tr>\n",
       "      <th>33</th>\n",
       "      <td>-0.020801</td>\n",
       "      <td>4.597701e-02</td>\n",
       "      <td>-3.921569e-02</td>\n",
       "      <td>-0.017666</td>\n",
       "    </tr>\n",
       "    <tr>\n",
       "      <th>34</th>\n",
       "      <td>-0.056914</td>\n",
       "      <td>-1.175824e-01</td>\n",
       "      <td>4.489796e-02</td>\n",
       "      <td>-0.024878</td>\n",
       "    </tr>\n",
       "    <tr>\n",
       "      <th>35</th>\n",
       "      <td>0.045899</td>\n",
       "      <td>-1.369863e-02</td>\n",
       "      <td>5.859375e-02</td>\n",
       "      <td>0.041568</td>\n",
       "    </tr>\n",
       "    <tr>\n",
       "      <th>36</th>\n",
       "      <td>0.076798</td>\n",
       "      <td>-9.595960e-02</td>\n",
       "      <td>3.936039e-02</td>\n",
       "      <td>0.033807</td>\n",
       "    </tr>\n",
       "    <tr>\n",
       "      <th>37</th>\n",
       "      <td>-0.023121</td>\n",
       "      <td>-6.564246e-02</td>\n",
       "      <td>1.053254e-01</td>\n",
       "      <td>0.022738</td>\n",
       "    </tr>\n",
       "    <tr>\n",
       "      <th>38</th>\n",
       "      <td>-0.079882</td>\n",
       "      <td>1.405082e-01</td>\n",
       "      <td>-8.244111e-02</td>\n",
       "      <td>-0.045669</td>\n",
       "    </tr>\n",
       "    <tr>\n",
       "      <th>39</th>\n",
       "      <td>-0.008574</td>\n",
       "      <td>-6.159895e-02</td>\n",
       "      <td>7.001167e-03</td>\n",
       "      <td>-0.010672</td>\n",
       "    </tr>\n",
       "    <tr>\n",
       "      <th>40</th>\n",
       "      <td>0.047568</td>\n",
       "      <td>5.027933e-02</td>\n",
       "      <td>-3.823870e-02</td>\n",
       "      <td>0.012821</td>\n",
       "    </tr>\n",
       "    <tr>\n",
       "      <th>41</th>\n",
       "      <td>-0.041280</td>\n",
       "      <td>-4.787234e-02</td>\n",
       "      <td>-1.192771e-01</td>\n",
       "      <td>-0.074313</td>\n",
       "    </tr>\n",
       "    <tr>\n",
       "      <th>42</th>\n",
       "      <td>-0.087191</td>\n",
       "      <td>-2.071760e-01</td>\n",
       "      <td>-6.703146e-02</td>\n",
       "      <td>-0.098123</td>\n",
       "    </tr>\n",
       "    <tr>\n",
       "      <th>43</th>\n",
       "      <td>-0.012972</td>\n",
       "      <td>1.048035e-01</td>\n",
       "      <td>2.052786e-02</td>\n",
       "      <td>0.019607</td>\n",
       "    </tr>\n",
       "    <tr>\n",
       "      <th>44</th>\n",
       "      <td>-0.075269</td>\n",
       "      <td>-3.557312e-02</td>\n",
       "      <td>-1.307471e-01</td>\n",
       "      <td>-0.091664</td>\n",
       "    </tr>\n",
       "    <tr>\n",
       "      <th>45</th>\n",
       "      <td>0.192506</td>\n",
       "      <td>1.147541e-01</td>\n",
       "      <td>2.214876e-01</td>\n",
       "      <td>0.191948</td>\n",
       "    </tr>\n",
       "    <tr>\n",
       "      <th>46</th>\n",
       "      <td>-0.022752</td>\n",
       "      <td>-2.205882e-02</td>\n",
       "      <td>-5.277402e-02</td>\n",
       "      <td>-0.034950</td>\n",
       "    </tr>\n",
       "    <tr>\n",
       "      <th>47</th>\n",
       "      <td>-0.009978</td>\n",
       "      <td>-6.766917e-02</td>\n",
       "      <td>6.000000e-02</td>\n",
       "      <td>0.009482</td>\n",
       "    </tr>\n",
       "    <tr>\n",
       "      <th>48</th>\n",
       "      <td>0.026876</td>\n",
       "      <td>-3.629032e-02</td>\n",
       "      <td>6.469003e-02</td>\n",
       "      <td>0.032273</td>\n",
       "    </tr>\n",
       "    <tr>\n",
       "      <th>49</th>\n",
       "      <td>-0.073064</td>\n",
       "      <td>-6.694561e-02</td>\n",
       "      <td>-1.734177e-01</td>\n",
       "      <td>-0.113230</td>\n",
       "    </tr>\n",
       "    <tr>\n",
       "      <th>50</th>\n",
       "      <td>0.105882</td>\n",
       "      <td>2.242152e-02</td>\n",
       "      <td>6.431853e-02</td>\n",
       "      <td>0.075487</td>\n",
       "    </tr>\n",
       "    <tr>\n",
       "      <th>51</th>\n",
       "      <td>-0.035106</td>\n",
       "      <td>2.105263e-01</td>\n",
       "      <td>1.064748e-01</td>\n",
       "      <td>0.062243</td>\n",
       "    </tr>\n",
       "    <tr>\n",
       "      <th>52</th>\n",
       "      <td>-0.029768</td>\n",
       "      <td>6.159420e-02</td>\n",
       "      <td>6.501951e-03</td>\n",
       "      <td>-0.000280</td>\n",
       "    </tr>\n",
       "    <tr>\n",
       "      <th>53</th>\n",
       "      <td>0.114773</td>\n",
       "      <td>7.167235e-02</td>\n",
       "      <td>6.201550e-02</td>\n",
       "      <td>0.086246</td>\n",
       "    </tr>\n",
       "    <tr>\n",
       "      <th>54</th>\n",
       "      <td>0.027523</td>\n",
       "      <td>4.458599e-02</td>\n",
       "      <td>-2.433090e-03</td>\n",
       "      <td>0.017971</td>\n",
       "    </tr>\n",
       "    <tr>\n",
       "      <th>55</th>\n",
       "      <td>-0.001984</td>\n",
       "      <td>4.878049e-02</td>\n",
       "      <td>-1.341463e-02</td>\n",
       "      <td>0.001452</td>\n",
       "    </tr>\n",
       "    <tr>\n",
       "      <th>56</th>\n",
       "      <td>0.109344</td>\n",
       "      <td>8.430233e-02</td>\n",
       "      <td>1.631644e-01</td>\n",
       "      <td>0.127404</td>\n",
       "    </tr>\n",
       "    <tr>\n",
       "      <th>57</th>\n",
       "      <td>0.010753</td>\n",
       "      <td>-3.753351e-02</td>\n",
       "      <td>-6.376196e-03</td>\n",
       "      <td>-0.003996</td>\n",
       "    </tr>\n",
       "    <tr>\n",
       "      <th>58</th>\n",
       "      <td>-0.039007</td>\n",
       "      <td>-3.064067e-02</td>\n",
       "      <td>-5.989305e-02</td>\n",
       "      <td>-0.046232</td>\n",
       "    </tr>\n",
       "    <tr>\n",
       "      <th>59</th>\n",
       "      <td>-0.119004</td>\n",
       "      <td>-2.298851e-02</td>\n",
       "      <td>-5.233220e-02</td>\n",
       "      <td>-0.076306</td>\n",
       "    </tr>\n",
       "  </tbody>\n",
       "</table>\n",
       "</div>"
      ],
      "text/plain": [
       "           A             B             C        pf\n",
       "0  -0.021513 -3.129657e-02  1.317234e-02 -0.008857\n",
       "1  -0.073050 -6.307692e-02  1.072589e-01  0.002473\n",
       "2  -0.029839  4.105090e-02 -1.722114e-01 -0.076869\n",
       "3  -0.065457 -1.750789e-01 -1.229314e-01 -0.106561\n",
       "4  -0.081013 -5.258126e-02 -3.504043e-02 -0.057615\n",
       "5   0.041322  3.531786e-02 -6.284916e-02 -0.002349\n",
       "6   0.209877  1.695906e-01 -8.494784e-02  0.082553\n",
       "7  -0.064140  5.166667e-02  2.931596e-02 -0.007294\n",
       "8  -0.018692  4.278922e-02 -2.689873e-02 -0.012220\n",
       "9  -0.087302 -4.559271e-02 -1.121951e-01 -0.090835\n",
       "10  0.024348 -8.917197e-02  9.890110e-02  0.036751\n",
       "11  0.113752  1.136364e-01 -6.166667e-02  0.041812\n",
       "12 -0.051067  6.279435e-02  2.220446e-16 -0.011912\n",
       "13  0.037751  6.351551e-02  1.953819e-02  0.034406\n",
       "14  0.102941 -1.388889e-02  1.289199e-01  0.094900\n",
       "15  0.080000  2.220446e-16  6.172840e-02  0.059709\n",
       "16  0.052632  1.901408e-01  5.959302e-02  0.077487\n",
       "17 -0.013580  4.497041e-02  1.028807e-01  0.043537\n",
       "18  0.025657 -2.944507e-02  1.990050e-02  0.014481\n",
       "19  0.065284 -6.884481e-02  4.634146e-02  0.036057\n",
       "20  0.032073 -2.882206e-02  4.195804e-02  0.026383\n",
       "21  0.094895 -2.193548e-02  2.013423e-01  0.119845\n",
       "22 -0.025849  2.374670e-02 -1.303538e-01 -0.060761\n",
       "23  0.071800  1.018041e-01  8.137045e-02  0.080525\n",
       "24  0.083010 -6.432749e-02  6.930693e-02  0.053818\n",
       "25  0.001793  5.625000e-02  5.555556e-02  0.032549\n",
       "26  0.063535 -8.284024e-03  1.824561e-01  0.100801\n",
       "27  0.013883 -4.176611e-02 -2.077151e-02 -0.009229\n",
       "28 -0.039004 -5.977584e-02  3.939394e-02 -0.010184\n",
       "29  0.107081 -1.324503e-02  2.084548e-01  0.129392\n",
       "30  0.074103  2.000000e-01 -8.443908e-03  0.060402\n",
       "31 -0.077705 -1.051454e-01 -6.569343e-02 -0.077171\n",
       "32  0.003150  8.750000e-02 -3.906250e-03  0.013753\n",
       "33 -0.020801  4.597701e-02 -3.921569e-02 -0.017666\n",
       "34 -0.056914 -1.175824e-01  4.489796e-02 -0.024878\n",
       "35  0.045899 -1.369863e-02  5.859375e-02  0.041568\n",
       "36  0.076798 -9.595960e-02  3.936039e-02  0.033807\n",
       "37 -0.023121 -6.564246e-02  1.053254e-01  0.022738\n",
       "38 -0.079882  1.405082e-01 -8.244111e-02 -0.045669\n",
       "39 -0.008574 -6.159895e-02  7.001167e-03 -0.010672\n",
       "40  0.047568  5.027933e-02 -3.823870e-02  0.012821\n",
       "41 -0.041280 -4.787234e-02 -1.192771e-01 -0.074313\n",
       "42 -0.087191 -2.071760e-01 -6.703146e-02 -0.098123\n",
       "43 -0.012972  1.048035e-01  2.052786e-02  0.019607\n",
       "44 -0.075269 -3.557312e-02 -1.307471e-01 -0.091664\n",
       "45  0.192506  1.147541e-01  2.214876e-01  0.191948\n",
       "46 -0.022752 -2.205882e-02 -5.277402e-02 -0.034950\n",
       "47 -0.009978 -6.766917e-02  6.000000e-02  0.009482\n",
       "48  0.026876 -3.629032e-02  6.469003e-02  0.032273\n",
       "49 -0.073064 -6.694561e-02 -1.734177e-01 -0.113230\n",
       "50  0.105882  2.242152e-02  6.431853e-02  0.075487\n",
       "51 -0.035106  2.105263e-01  1.064748e-01  0.062243\n",
       "52 -0.029768  6.159420e-02  6.501951e-03 -0.000280\n",
       "53  0.114773  7.167235e-02  6.201550e-02  0.086246\n",
       "54  0.027523  4.458599e-02 -2.433090e-03  0.017971\n",
       "55 -0.001984  4.878049e-02 -1.341463e-02  0.001452\n",
       "56  0.109344  8.430233e-02  1.631644e-01  0.127404\n",
       "57  0.010753 -3.753351e-02 -6.376196e-03 -0.003996\n",
       "58 -0.039007 -3.064067e-02 -5.989305e-02 -0.046232\n",
       "59 -0.119004 -2.298851e-02 -5.233220e-02 -0.076306"
      ]
     },
     "execution_count": 125,
     "metadata": {},
     "output_type": "execute_result"
    }
   ],
   "source": [
    "total_data"
   ]
  },
  {
   "cell_type": "code",
   "execution_count": 126,
   "metadata": {},
   "outputs": [
    {
     "data": {
      "text/html": [
       "<div>\n",
       "<style scoped>\n",
       "    .dataframe tbody tr th:only-of-type {\n",
       "        vertical-align: middle;\n",
       "    }\n",
       "\n",
       "    .dataframe tbody tr th {\n",
       "        vertical-align: top;\n",
       "    }\n",
       "\n",
       "    .dataframe thead th {\n",
       "        text-align: right;\n",
       "    }\n",
       "</style>\n",
       "<table border=\"1\" class=\"dataframe\">\n",
       "  <thead>\n",
       "    <tr style=\"text-align: right;\">\n",
       "      <th></th>\n",
       "      <th>A</th>\n",
       "      <th>B</th>\n",
       "      <th>C</th>\n",
       "      <th>pf</th>\n",
       "    </tr>\n",
       "  </thead>\n",
       "  <tbody>\n",
       "    <tr>\n",
       "      <th>49</th>\n",
       "      <td>-0.073064</td>\n",
       "      <td>-6.694561e-02</td>\n",
       "      <td>-1.734177e-01</td>\n",
       "      <td>-0.113230</td>\n",
       "    </tr>\n",
       "    <tr>\n",
       "      <th>3</th>\n",
       "      <td>-0.065457</td>\n",
       "      <td>-1.750789e-01</td>\n",
       "      <td>-1.229314e-01</td>\n",
       "      <td>-0.106561</td>\n",
       "    </tr>\n",
       "    <tr>\n",
       "      <th>42</th>\n",
       "      <td>-0.087191</td>\n",
       "      <td>-2.071760e-01</td>\n",
       "      <td>-6.703146e-02</td>\n",
       "      <td>-0.098123</td>\n",
       "    </tr>\n",
       "    <tr>\n",
       "      <th>44</th>\n",
       "      <td>-0.075269</td>\n",
       "      <td>-3.557312e-02</td>\n",
       "      <td>-1.307471e-01</td>\n",
       "      <td>-0.091664</td>\n",
       "    </tr>\n",
       "    <tr>\n",
       "      <th>9</th>\n",
       "      <td>-0.087302</td>\n",
       "      <td>-4.559271e-02</td>\n",
       "      <td>-1.121951e-01</td>\n",
       "      <td>-0.090835</td>\n",
       "    </tr>\n",
       "    <tr>\n",
       "      <th>31</th>\n",
       "      <td>-0.077705</td>\n",
       "      <td>-1.051454e-01</td>\n",
       "      <td>-6.569343e-02</td>\n",
       "      <td>-0.077171</td>\n",
       "    </tr>\n",
       "    <tr>\n",
       "      <th>2</th>\n",
       "      <td>-0.029839</td>\n",
       "      <td>4.105090e-02</td>\n",
       "      <td>-1.722114e-01</td>\n",
       "      <td>-0.076869</td>\n",
       "    </tr>\n",
       "    <tr>\n",
       "      <th>59</th>\n",
       "      <td>-0.119004</td>\n",
       "      <td>-2.298851e-02</td>\n",
       "      <td>-5.233220e-02</td>\n",
       "      <td>-0.076306</td>\n",
       "    </tr>\n",
       "    <tr>\n",
       "      <th>41</th>\n",
       "      <td>-0.041280</td>\n",
       "      <td>-4.787234e-02</td>\n",
       "      <td>-1.192771e-01</td>\n",
       "      <td>-0.074313</td>\n",
       "    </tr>\n",
       "    <tr>\n",
       "      <th>22</th>\n",
       "      <td>-0.025849</td>\n",
       "      <td>2.374670e-02</td>\n",
       "      <td>-1.303538e-01</td>\n",
       "      <td>-0.060761</td>\n",
       "    </tr>\n",
       "    <tr>\n",
       "      <th>4</th>\n",
       "      <td>-0.081013</td>\n",
       "      <td>-5.258126e-02</td>\n",
       "      <td>-3.504043e-02</td>\n",
       "      <td>-0.057615</td>\n",
       "    </tr>\n",
       "    <tr>\n",
       "      <th>58</th>\n",
       "      <td>-0.039007</td>\n",
       "      <td>-3.064067e-02</td>\n",
       "      <td>-5.989305e-02</td>\n",
       "      <td>-0.046232</td>\n",
       "    </tr>\n",
       "    <tr>\n",
       "      <th>38</th>\n",
       "      <td>-0.079882</td>\n",
       "      <td>1.405082e-01</td>\n",
       "      <td>-8.244111e-02</td>\n",
       "      <td>-0.045669</td>\n",
       "    </tr>\n",
       "    <tr>\n",
       "      <th>46</th>\n",
       "      <td>-0.022752</td>\n",
       "      <td>-2.205882e-02</td>\n",
       "      <td>-5.277402e-02</td>\n",
       "      <td>-0.034950</td>\n",
       "    </tr>\n",
       "    <tr>\n",
       "      <th>34</th>\n",
       "      <td>-0.056914</td>\n",
       "      <td>-1.175824e-01</td>\n",
       "      <td>4.489796e-02</td>\n",
       "      <td>-0.024878</td>\n",
       "    </tr>\n",
       "    <tr>\n",
       "      <th>33</th>\n",
       "      <td>-0.020801</td>\n",
       "      <td>4.597701e-02</td>\n",
       "      <td>-3.921569e-02</td>\n",
       "      <td>-0.017666</td>\n",
       "    </tr>\n",
       "    <tr>\n",
       "      <th>8</th>\n",
       "      <td>-0.018692</td>\n",
       "      <td>4.278922e-02</td>\n",
       "      <td>-2.689873e-02</td>\n",
       "      <td>-0.012220</td>\n",
       "    </tr>\n",
       "    <tr>\n",
       "      <th>12</th>\n",
       "      <td>-0.051067</td>\n",
       "      <td>6.279435e-02</td>\n",
       "      <td>2.220446e-16</td>\n",
       "      <td>-0.011912</td>\n",
       "    </tr>\n",
       "    <tr>\n",
       "      <th>39</th>\n",
       "      <td>-0.008574</td>\n",
       "      <td>-6.159895e-02</td>\n",
       "      <td>7.001167e-03</td>\n",
       "      <td>-0.010672</td>\n",
       "    </tr>\n",
       "    <tr>\n",
       "      <th>28</th>\n",
       "      <td>-0.039004</td>\n",
       "      <td>-5.977584e-02</td>\n",
       "      <td>3.939394e-02</td>\n",
       "      <td>-0.010184</td>\n",
       "    </tr>\n",
       "    <tr>\n",
       "      <th>27</th>\n",
       "      <td>0.013883</td>\n",
       "      <td>-4.176611e-02</td>\n",
       "      <td>-2.077151e-02</td>\n",
       "      <td>-0.009229</td>\n",
       "    </tr>\n",
       "    <tr>\n",
       "      <th>0</th>\n",
       "      <td>-0.021513</td>\n",
       "      <td>-3.129657e-02</td>\n",
       "      <td>1.317234e-02</td>\n",
       "      <td>-0.008857</td>\n",
       "    </tr>\n",
       "    <tr>\n",
       "      <th>7</th>\n",
       "      <td>-0.064140</td>\n",
       "      <td>5.166667e-02</td>\n",
       "      <td>2.931596e-02</td>\n",
       "      <td>-0.007294</td>\n",
       "    </tr>\n",
       "    <tr>\n",
       "      <th>57</th>\n",
       "      <td>0.010753</td>\n",
       "      <td>-3.753351e-02</td>\n",
       "      <td>-6.376196e-03</td>\n",
       "      <td>-0.003996</td>\n",
       "    </tr>\n",
       "    <tr>\n",
       "      <th>5</th>\n",
       "      <td>0.041322</td>\n",
       "      <td>3.531786e-02</td>\n",
       "      <td>-6.284916e-02</td>\n",
       "      <td>-0.002349</td>\n",
       "    </tr>\n",
       "    <tr>\n",
       "      <th>52</th>\n",
       "      <td>-0.029768</td>\n",
       "      <td>6.159420e-02</td>\n",
       "      <td>6.501951e-03</td>\n",
       "      <td>-0.000280</td>\n",
       "    </tr>\n",
       "    <tr>\n",
       "      <th>55</th>\n",
       "      <td>-0.001984</td>\n",
       "      <td>4.878049e-02</td>\n",
       "      <td>-1.341463e-02</td>\n",
       "      <td>0.001452</td>\n",
       "    </tr>\n",
       "    <tr>\n",
       "      <th>1</th>\n",
       "      <td>-0.073050</td>\n",
       "      <td>-6.307692e-02</td>\n",
       "      <td>1.072589e-01</td>\n",
       "      <td>0.002473</td>\n",
       "    </tr>\n",
       "    <tr>\n",
       "      <th>47</th>\n",
       "      <td>-0.009978</td>\n",
       "      <td>-6.766917e-02</td>\n",
       "      <td>6.000000e-02</td>\n",
       "      <td>0.009482</td>\n",
       "    </tr>\n",
       "    <tr>\n",
       "      <th>40</th>\n",
       "      <td>0.047568</td>\n",
       "      <td>5.027933e-02</td>\n",
       "      <td>-3.823870e-02</td>\n",
       "      <td>0.012821</td>\n",
       "    </tr>\n",
       "    <tr>\n",
       "      <th>32</th>\n",
       "      <td>0.003150</td>\n",
       "      <td>8.750000e-02</td>\n",
       "      <td>-3.906250e-03</td>\n",
       "      <td>0.013753</td>\n",
       "    </tr>\n",
       "    <tr>\n",
       "      <th>18</th>\n",
       "      <td>0.025657</td>\n",
       "      <td>-2.944507e-02</td>\n",
       "      <td>1.990050e-02</td>\n",
       "      <td>0.014481</td>\n",
       "    </tr>\n",
       "    <tr>\n",
       "      <th>54</th>\n",
       "      <td>0.027523</td>\n",
       "      <td>4.458599e-02</td>\n",
       "      <td>-2.433090e-03</td>\n",
       "      <td>0.017971</td>\n",
       "    </tr>\n",
       "    <tr>\n",
       "      <th>43</th>\n",
       "      <td>-0.012972</td>\n",
       "      <td>1.048035e-01</td>\n",
       "      <td>2.052786e-02</td>\n",
       "      <td>0.019607</td>\n",
       "    </tr>\n",
       "    <tr>\n",
       "      <th>37</th>\n",
       "      <td>-0.023121</td>\n",
       "      <td>-6.564246e-02</td>\n",
       "      <td>1.053254e-01</td>\n",
       "      <td>0.022738</td>\n",
       "    </tr>\n",
       "    <tr>\n",
       "      <th>20</th>\n",
       "      <td>0.032073</td>\n",
       "      <td>-2.882206e-02</td>\n",
       "      <td>4.195804e-02</td>\n",
       "      <td>0.026383</td>\n",
       "    </tr>\n",
       "    <tr>\n",
       "      <th>48</th>\n",
       "      <td>0.026876</td>\n",
       "      <td>-3.629032e-02</td>\n",
       "      <td>6.469003e-02</td>\n",
       "      <td>0.032273</td>\n",
       "    </tr>\n",
       "    <tr>\n",
       "      <th>25</th>\n",
       "      <td>0.001793</td>\n",
       "      <td>5.625000e-02</td>\n",
       "      <td>5.555556e-02</td>\n",
       "      <td>0.032549</td>\n",
       "    </tr>\n",
       "    <tr>\n",
       "      <th>36</th>\n",
       "      <td>0.076798</td>\n",
       "      <td>-9.595960e-02</td>\n",
       "      <td>3.936039e-02</td>\n",
       "      <td>0.033807</td>\n",
       "    </tr>\n",
       "    <tr>\n",
       "      <th>13</th>\n",
       "      <td>0.037751</td>\n",
       "      <td>6.351551e-02</td>\n",
       "      <td>1.953819e-02</td>\n",
       "      <td>0.034406</td>\n",
       "    </tr>\n",
       "    <tr>\n",
       "      <th>19</th>\n",
       "      <td>0.065284</td>\n",
       "      <td>-6.884481e-02</td>\n",
       "      <td>4.634146e-02</td>\n",
       "      <td>0.036057</td>\n",
       "    </tr>\n",
       "    <tr>\n",
       "      <th>10</th>\n",
       "      <td>0.024348</td>\n",
       "      <td>-8.917197e-02</td>\n",
       "      <td>9.890110e-02</td>\n",
       "      <td>0.036751</td>\n",
       "    </tr>\n",
       "    <tr>\n",
       "      <th>35</th>\n",
       "      <td>0.045899</td>\n",
       "      <td>-1.369863e-02</td>\n",
       "      <td>5.859375e-02</td>\n",
       "      <td>0.041568</td>\n",
       "    </tr>\n",
       "    <tr>\n",
       "      <th>11</th>\n",
       "      <td>0.113752</td>\n",
       "      <td>1.136364e-01</td>\n",
       "      <td>-6.166667e-02</td>\n",
       "      <td>0.041812</td>\n",
       "    </tr>\n",
       "    <tr>\n",
       "      <th>17</th>\n",
       "      <td>-0.013580</td>\n",
       "      <td>4.497041e-02</td>\n",
       "      <td>1.028807e-01</td>\n",
       "      <td>0.043537</td>\n",
       "    </tr>\n",
       "    <tr>\n",
       "      <th>24</th>\n",
       "      <td>0.083010</td>\n",
       "      <td>-6.432749e-02</td>\n",
       "      <td>6.930693e-02</td>\n",
       "      <td>0.053818</td>\n",
       "    </tr>\n",
       "    <tr>\n",
       "      <th>15</th>\n",
       "      <td>0.080000</td>\n",
       "      <td>2.220446e-16</td>\n",
       "      <td>6.172840e-02</td>\n",
       "      <td>0.059709</td>\n",
       "    </tr>\n",
       "    <tr>\n",
       "      <th>30</th>\n",
       "      <td>0.074103</td>\n",
       "      <td>2.000000e-01</td>\n",
       "      <td>-8.443908e-03</td>\n",
       "      <td>0.060402</td>\n",
       "    </tr>\n",
       "    <tr>\n",
       "      <th>51</th>\n",
       "      <td>-0.035106</td>\n",
       "      <td>2.105263e-01</td>\n",
       "      <td>1.064748e-01</td>\n",
       "      <td>0.062243</td>\n",
       "    </tr>\n",
       "    <tr>\n",
       "      <th>50</th>\n",
       "      <td>0.105882</td>\n",
       "      <td>2.242152e-02</td>\n",
       "      <td>6.431853e-02</td>\n",
       "      <td>0.075487</td>\n",
       "    </tr>\n",
       "    <tr>\n",
       "      <th>16</th>\n",
       "      <td>0.052632</td>\n",
       "      <td>1.901408e-01</td>\n",
       "      <td>5.959302e-02</td>\n",
       "      <td>0.077487</td>\n",
       "    </tr>\n",
       "    <tr>\n",
       "      <th>23</th>\n",
       "      <td>0.071800</td>\n",
       "      <td>1.018041e-01</td>\n",
       "      <td>8.137045e-02</td>\n",
       "      <td>0.080525</td>\n",
       "    </tr>\n",
       "    <tr>\n",
       "      <th>6</th>\n",
       "      <td>0.209877</td>\n",
       "      <td>1.695906e-01</td>\n",
       "      <td>-8.494784e-02</td>\n",
       "      <td>0.082553</td>\n",
       "    </tr>\n",
       "    <tr>\n",
       "      <th>53</th>\n",
       "      <td>0.114773</td>\n",
       "      <td>7.167235e-02</td>\n",
       "      <td>6.201550e-02</td>\n",
       "      <td>0.086246</td>\n",
       "    </tr>\n",
       "    <tr>\n",
       "      <th>14</th>\n",
       "      <td>0.102941</td>\n",
       "      <td>-1.388889e-02</td>\n",
       "      <td>1.289199e-01</td>\n",
       "      <td>0.094900</td>\n",
       "    </tr>\n",
       "    <tr>\n",
       "      <th>26</th>\n",
       "      <td>0.063535</td>\n",
       "      <td>-8.284024e-03</td>\n",
       "      <td>1.824561e-01</td>\n",
       "      <td>0.100801</td>\n",
       "    </tr>\n",
       "    <tr>\n",
       "      <th>21</th>\n",
       "      <td>0.094895</td>\n",
       "      <td>-2.193548e-02</td>\n",
       "      <td>2.013423e-01</td>\n",
       "      <td>0.119845</td>\n",
       "    </tr>\n",
       "    <tr>\n",
       "      <th>56</th>\n",
       "      <td>0.109344</td>\n",
       "      <td>8.430233e-02</td>\n",
       "      <td>1.631644e-01</td>\n",
       "      <td>0.127404</td>\n",
       "    </tr>\n",
       "    <tr>\n",
       "      <th>29</th>\n",
       "      <td>0.107081</td>\n",
       "      <td>-1.324503e-02</td>\n",
       "      <td>2.084548e-01</td>\n",
       "      <td>0.129392</td>\n",
       "    </tr>\n",
       "    <tr>\n",
       "      <th>45</th>\n",
       "      <td>0.192506</td>\n",
       "      <td>1.147541e-01</td>\n",
       "      <td>2.214876e-01</td>\n",
       "      <td>0.191948</td>\n",
       "    </tr>\n",
       "  </tbody>\n",
       "</table>\n",
       "</div>"
      ],
      "text/plain": [
       "           A             B             C        pf\n",
       "49 -0.073064 -6.694561e-02 -1.734177e-01 -0.113230\n",
       "3  -0.065457 -1.750789e-01 -1.229314e-01 -0.106561\n",
       "42 -0.087191 -2.071760e-01 -6.703146e-02 -0.098123\n",
       "44 -0.075269 -3.557312e-02 -1.307471e-01 -0.091664\n",
       "9  -0.087302 -4.559271e-02 -1.121951e-01 -0.090835\n",
       "31 -0.077705 -1.051454e-01 -6.569343e-02 -0.077171\n",
       "2  -0.029839  4.105090e-02 -1.722114e-01 -0.076869\n",
       "59 -0.119004 -2.298851e-02 -5.233220e-02 -0.076306\n",
       "41 -0.041280 -4.787234e-02 -1.192771e-01 -0.074313\n",
       "22 -0.025849  2.374670e-02 -1.303538e-01 -0.060761\n",
       "4  -0.081013 -5.258126e-02 -3.504043e-02 -0.057615\n",
       "58 -0.039007 -3.064067e-02 -5.989305e-02 -0.046232\n",
       "38 -0.079882  1.405082e-01 -8.244111e-02 -0.045669\n",
       "46 -0.022752 -2.205882e-02 -5.277402e-02 -0.034950\n",
       "34 -0.056914 -1.175824e-01  4.489796e-02 -0.024878\n",
       "33 -0.020801  4.597701e-02 -3.921569e-02 -0.017666\n",
       "8  -0.018692  4.278922e-02 -2.689873e-02 -0.012220\n",
       "12 -0.051067  6.279435e-02  2.220446e-16 -0.011912\n",
       "39 -0.008574 -6.159895e-02  7.001167e-03 -0.010672\n",
       "28 -0.039004 -5.977584e-02  3.939394e-02 -0.010184\n",
       "27  0.013883 -4.176611e-02 -2.077151e-02 -0.009229\n",
       "0  -0.021513 -3.129657e-02  1.317234e-02 -0.008857\n",
       "7  -0.064140  5.166667e-02  2.931596e-02 -0.007294\n",
       "57  0.010753 -3.753351e-02 -6.376196e-03 -0.003996\n",
       "5   0.041322  3.531786e-02 -6.284916e-02 -0.002349\n",
       "52 -0.029768  6.159420e-02  6.501951e-03 -0.000280\n",
       "55 -0.001984  4.878049e-02 -1.341463e-02  0.001452\n",
       "1  -0.073050 -6.307692e-02  1.072589e-01  0.002473\n",
       "47 -0.009978 -6.766917e-02  6.000000e-02  0.009482\n",
       "40  0.047568  5.027933e-02 -3.823870e-02  0.012821\n",
       "32  0.003150  8.750000e-02 -3.906250e-03  0.013753\n",
       "18  0.025657 -2.944507e-02  1.990050e-02  0.014481\n",
       "54  0.027523  4.458599e-02 -2.433090e-03  0.017971\n",
       "43 -0.012972  1.048035e-01  2.052786e-02  0.019607\n",
       "37 -0.023121 -6.564246e-02  1.053254e-01  0.022738\n",
       "20  0.032073 -2.882206e-02  4.195804e-02  0.026383\n",
       "48  0.026876 -3.629032e-02  6.469003e-02  0.032273\n",
       "25  0.001793  5.625000e-02  5.555556e-02  0.032549\n",
       "36  0.076798 -9.595960e-02  3.936039e-02  0.033807\n",
       "13  0.037751  6.351551e-02  1.953819e-02  0.034406\n",
       "19  0.065284 -6.884481e-02  4.634146e-02  0.036057\n",
       "10  0.024348 -8.917197e-02  9.890110e-02  0.036751\n",
       "35  0.045899 -1.369863e-02  5.859375e-02  0.041568\n",
       "11  0.113752  1.136364e-01 -6.166667e-02  0.041812\n",
       "17 -0.013580  4.497041e-02  1.028807e-01  0.043537\n",
       "24  0.083010 -6.432749e-02  6.930693e-02  0.053818\n",
       "15  0.080000  2.220446e-16  6.172840e-02  0.059709\n",
       "30  0.074103  2.000000e-01 -8.443908e-03  0.060402\n",
       "51 -0.035106  2.105263e-01  1.064748e-01  0.062243\n",
       "50  0.105882  2.242152e-02  6.431853e-02  0.075487\n",
       "16  0.052632  1.901408e-01  5.959302e-02  0.077487\n",
       "23  0.071800  1.018041e-01  8.137045e-02  0.080525\n",
       "6   0.209877  1.695906e-01 -8.494784e-02  0.082553\n",
       "53  0.114773  7.167235e-02  6.201550e-02  0.086246\n",
       "14  0.102941 -1.388889e-02  1.289199e-01  0.094900\n",
       "26  0.063535 -8.284024e-03  1.824561e-01  0.100801\n",
       "21  0.094895 -2.193548e-02  2.013423e-01  0.119845\n",
       "56  0.109344  8.430233e-02  1.631644e-01  0.127404\n",
       "29  0.107081 -1.324503e-02  2.084548e-01  0.129392\n",
       "45  0.192506  1.147541e-01  2.214876e-01  0.191948"
      ]
     },
     "execution_count": 126,
     "metadata": {},
     "output_type": "execute_result"
    }
   ],
   "source": [
    "total_data = total_data.sort_values(by = ['pf'], axis = 0)\n",
    "total_data"
   ]
  },
  {
   "cell_type": "code",
   "execution_count": 127,
   "metadata": {},
   "outputs": [
    {
     "data": {
      "text/plain": [
       "-0.09438882404720285"
      ]
     },
     "execution_count": 127,
     "metadata": {},
     "output_type": "execute_result"
    },
    {
     "data": {
      "text/plain": [
       "-0.027751407850886728"
      ]
     },
     "execution_count": 127,
     "metadata": {},
     "output_type": "execute_result"
    }
   ],
   "source": [
    "# VaR\n",
    "VaR_pf = total_data['pf'].mean() + (-1.65)*math.sqrt(total_data['pf'].var())\n",
    "VaR_pf\n",
    "# ES -> 60개 data의 5%니까 3번째까지 평균을 구하면 됨.\n",
    "ES_pf = (total_data['pf'].loc[0] + total_data['pf'].loc[1] + total_data['pf'].loc[2])/3\n",
    "ES_pf"
   ]
  },
  {
   "cell_type": "markdown",
   "metadata": {},
   "source": [
    "# g. Risk aversion을 고려하여 risky/risk-free 비율 정하기\n",
    "*주의 : 이 데이터는 현재 e번에서 설정한 데이터일 가능성이 높음. 필요시 변경바람."
   ]
  },
  {
   "cell_type": "markdown",
   "metadata": {},
   "source": [
    "y = (E[rp] - rf)/(A*volatility^2)"
   ]
  },
  {
   "cell_type": "code",
   "execution_count": 128,
   "metadata": {},
   "outputs": [],
   "source": [
    "risk_aversion1 = 2\n",
    "risk_aversion2 = 3.5\n",
    "risk_aversion3 = 5\n",
    "\n",
    "y1 = (result_mean - risk_free_ratio)/(risk_aversion1*(result_std**2))\n",
    "y2 = (result_mean - risk_free_ratio)/(risk_aversion2*(result_std**2))\n",
    "y3 = (result_mean - risk_free_ratio)/(risk_aversion3*(result_std**2))\n",
    "\n",
    "y1 = float(y1)\n",
    "y2 = float(y2)\n",
    "y3 = float(y3)"
   ]
  },
  {
   "cell_type": "code",
   "execution_count": 129,
   "metadata": {},
   "outputs": [
    {
     "name": "stdout",
     "output_type": "stream",
     "text": [
      "risk asset ratio where risk_aversion = 2 : 1.42\n",
      "risk asset ratio where risk_aversion = 3.5 : 0.81\n",
      "risk asset ratio where risk_aversion = 5 : 0.57\n"
     ]
    }
   ],
   "source": [
    "print(\"risk asset ratio where risk_aversion = 2 : %.2f\" %(y1))\n",
    "print(\"risk asset ratio where risk_aversion = 3.5 : %.2f\" %(y2))\n",
    "print(\"risk asset ratio where risk_aversion = 5 : %.2f\" %(y3))"
   ]
  },
  {
   "cell_type": "code",
   "execution_count": null,
   "metadata": {},
   "outputs": [],
   "source": []
  },
  {
   "cell_type": "code",
   "execution_count": null,
   "metadata": {},
   "outputs": [],
   "source": []
  },
  {
   "cell_type": "code",
   "execution_count": null,
   "metadata": {},
   "outputs": [],
   "source": []
  }
 ],
 "metadata": {
  "kernelspec": {
   "display_name": "Python 3",
   "language": "python",
   "name": "python3"
  },
  "language_info": {
   "codemirror_mode": {
    "name": "ipython",
    "version": 3
   },
   "file_extension": ".py",
   "mimetype": "text/x-python",
   "name": "python",
   "nbconvert_exporter": "python",
   "pygments_lexer": "ipython3",
   "version": "3.6.8"
  }
 },
 "nbformat": 4,
 "nbformat_minor": 4
}
