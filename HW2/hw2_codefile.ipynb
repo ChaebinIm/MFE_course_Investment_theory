{
 "cells": [
  {
   "cell_type": "markdown",
   "metadata": {},
   "source": [
    "# 패키지 불러오기"
   ]
  },
  {
   "cell_type": "code",
   "execution_count": 1,
   "metadata": {},
   "outputs": [
    {
     "name": "stderr",
     "output_type": "stream",
     "text": [
      "/Library/Frameworks/Python.framework/Versions/3.6/lib/python3.6/site-packages/statsmodels/tools/_testing.py:19: FutureWarning: pandas.util.testing is deprecated. Use the functions in the public API at pandas.testing instead.\n",
      "  import pandas.util.testing as tm\n",
      "/Users/imchaebin/Library/Python/3.6/lib/python/site-packages/ksif/core/frame.py:23: FutureWarning: pandas.core.index is deprecated and will be removed in a future version.  The public classes are available in the top-level namespace.\n",
      "  from pandas.core.index import MultiIndex\n"
     ]
    }
   ],
   "source": [
    "import math\n",
    "import numpy as np\n",
    "import pandas as pd\n",
    "from IPython.core.interactiveshell import InteractiveShell\n",
    "import matplotlib.pyplot as plt\n",
    "import ksif\n",
    "from ksif import Portfolio\n",
    "InteractiveShell.ast_node_interactivity = \"all\"\n",
    "%matplotlib inline\n",
    "pd.set_option('display.max_columns', 500)\n",
    "import sklearn\n",
    "from sklearn.linear_model import LinearRegression\n",
    "import statsmodels.api as sm\n",
    "import statsmodels.formula.api as smf\n",
    "from scipy import stats\n",
    "import statistics\n",
    "import math"
   ]
  },
  {
   "cell_type": "markdown",
   "metadata": {},
   "source": [
    "# 데이터 불러오기 (by ksif package)"
   ]
  },
  {
   "cell_type": "code",
   "execution_count": 2,
   "metadata": {},
   "outputs": [],
   "source": [
    "pf = Portfolio()\n",
    "pf = pf[pf['date'] > '2015-04-01']\n",
    "kospi200 = pd.read_csv(\"./kospi200_investing.com.csv\")\n",
    "bok_standard_rate = pd.read_csv('./bok_standard_rate.csv')"
   ]
  },
  {
   "cell_type": "code",
   "execution_count": 3,
   "metadata": {},
   "outputs": [],
   "source": [
    "kospi200 = kospi200.loc[::-1]\n",
    "kospi200.reset_index(inplace = True)"
   ]
  },
  {
   "cell_type": "code",
   "execution_count": 4,
   "metadata": {},
   "outputs": [],
   "source": [
    "kospi200['변동 %'] = kospi200['변동 %'].str.replace('%','')\n",
    "kospi200['변동 %'] = pd.to_numeric(kospi200['변동 %'])\n",
    "kospi200.loc[::-1].reset_index(drop = True, inplace = True)\n",
    "kospi200['변동 %'] = kospi200['변동 %']/100"
   ]
  },
  {
   "cell_type": "markdown",
   "metadata": {},
   "source": [
    "### a. 회사 선정\n",
    "##### 주의. Market Index를 KOSPI200으로 하였으므로, 종목을 선정할 때 KOSPI200에 포함되는 종목을 추천함."
   ]
  },
  {
   "cell_type": "code",
   "execution_count": 5,
   "metadata": {},
   "outputs": [],
   "source": [
    "# 회사 고르기\n",
    "name1 = '삼성전자'\n",
    "name2 = 'SK하이닉스'\n",
    "name3 = 'NAVER'"
   ]
  },
  {
   "cell_type": "markdown",
   "metadata": {},
   "source": [
    "### b. 5년간(60개 데이터) 선정한 회사의 monthly return, monthly T-bill rates, \n",
    "#### monthly T-bill rate -> 동 기간 한은 기준금리로 대체\n",
    "#### KOSPI200 -> Investing.com에서 가져옴"
   ]
  },
  {
   "cell_type": "code",
   "execution_count": 6,
   "metadata": {},
   "outputs": [],
   "source": [
    "data1 = pf[pf['firmname'] == name1]\n",
    "data2 = pf[pf['firmname'] == name2]\n",
    "data3 = pf[pf['firmname'] == name3]\n",
    "data1.reset_index(drop = True, inplace = True)\n",
    "data2.reset_index(drop = True, inplace = True)\n",
    "data3.reset_index(drop = True, inplace = True)\n",
    "\n",
    "data = pd.DataFrame()\n",
    "data['date'] = data1['date']\n",
    "data[name1] = data1['ret']\n",
    "data[name2] = data2['ret']\n",
    "data[name3] = data3['ret']\n",
    "data['KOSPI200'] = kospi200['변동 %']\n",
    "data['Tbillrate'] = bok_standard_rate['rate']/100/12\n",
    "\n",
    "data_reg = data\n",
    "data_reg['exR_kospi'] = data['KOSPI200']- data['Tbillrate']\n",
    "data_reg['exR_'+ name1] = data[name1]- data['Tbillrate']\n",
    "data_reg['exR_'+ name2] = data[name2]- data['Tbillrate']\n",
    "data_reg['exR_'+ name3] = data[name3]- data['Tbillrate']"
   ]
  },
  {
   "cell_type": "code",
   "execution_count": 7,
   "metadata": {},
   "outputs": [],
   "source": [
    "# Regression\n",
    "def regression_and_print_result(firmname):\n",
    "    regressor = LinearRegression()\n",
    "    x = data_reg['exR_'+ firmname].values.reshape(-1, 1) # target\n",
    "    y = data_reg['exR_kospi'].values.reshape(-1, 1) # feature\n",
    "    regressor.fit(x, y)\n",
    "    plt.scatter(x, y, color = 'blue')\n",
    "    plt.plot(x, regressor.predict(x), color = 'red') # 추세선 찾기\n",
    "    plt.xlabel('Excess return of KOSPI200')\n",
    "    plt.ylabel('Excess return of ' + firmname)\n",
    "    plt.title(firmname+'/KOSPI200')\n",
    "    plt.show()\n",
    "    model = smf.ols(formula = 'KOSPI200 ~ exR_' + firmname, data = data) # 대략적인 Regression summary 제공\n",
    "    result = model.fit()\n",
    "    print(result.summary())\n",
    "    correlation_matrix = np.corrcoef(data_reg['exR_'+ firmname].values, data_reg['exR_kospi'].values)\n",
    "    correlation_xy = correlation_matrix[0,1]\n",
    "    r_squared = correlation_xy**2\n",
    "    slope, intercept, r_value, p_value, _ = stats.linregress(data_reg['exR_'+ firmname].values, data_reg['exR_kospi'].values)\n",
    "    resid_err = math.sqrt((59*(statistics.stdev(data_reg['exR_'+ firmname].values)**2) + 59*(statistics.stdev(data_reg['exR_kospi'].values)**2))/118)\n",
    "    return slope, intercept, r_value**2, resid_err # Beta, Alpha, R_square, standard_error"
   ]
  },
  {
   "cell_type": "code",
   "execution_count": 8,
   "metadata": {},
   "outputs": [
    {
     "data": {
      "image/png": "[encoded data removed]",
      "text/plain": [
       "<Figure size 432x288 with 1 Axes>"
      ]
     },
     "metadata": {
      "needs_background": "light"
     },
     "output_type": "display_data"
    },
    {
     "name": "stdout",
     "output_type": "stream",
     "text": [
      "                            OLS Regression Results                            \n",
      "==============================================================================\n",
      "Dep. Variable:               KOSPI200   R-squared:                       0.640\n",
      "Model:                            OLS   Adj. R-squared:                  0.634\n",
      "Method:                 Least Squares   F-statistic:                     103.1\n",
      "Date:                Sat, 25 Apr 2020   Prob (F-statistic):           1.75e-14\n",
      "Time:                        21:06:01   Log-Likelihood:                 138.05\n",
      "No. Observations:                  60   AIC:                            -272.1\n",
      "Df Residuals:                      58   BIC:                            -267.9\n",
      "Df Model:                           1                                         \n",
      "Covariance Type:            nonrobust                                         \n",
      "==============================================================================\n",
      "                 coef    std err          t      P>|t|      [0.025      0.975]\n",
      "------------------------------------------------------------------------------\n",
      "Intercept     -0.0051      0.003     -1.600      0.115      -0.012       0.001\n",
      "exR_삼성전자       0.4596      0.045     10.156      0.000       0.369       0.550\n",
      "==============================================================================\n",
      "Omnibus:                        4.656   Durbin-Watson:                   2.144\n",
      "Prob(Omnibus):                  0.097   Jarque-Bera (JB):                4.513\n",
      "Skew:                          -0.310   Prob(JB):                        0.105\n",
      "Kurtosis:                       4.192   Cond. No.                         14.2\n",
      "==============================================================================\n",
      "\n",
      "Warnings:\n",
      "[1] Standard Errors assume that the covariance matrix of the errors is correctly specified.\n"
     ]
    },
    {
     "data": {
      "image/png": "[encoded data removed]",
      "text/plain": [
       "<Figure size 432x288 with 1 Axes>"
      ]
     },
     "metadata": {
      "needs_background": "light"
     },
     "output_type": "display_data"
    },
    {
     "name": "stdout",
     "output_type": "stream",
     "text": [
      "                            OLS Regression Results                            \n",
      "==============================================================================\n",
      "Dep. Variable:               KOSPI200   R-squared:                       0.202\n",
      "Model:                            OLS   Adj. R-squared:                  0.188\n",
      "Method:                 Least Squares   F-statistic:                     14.68\n",
      "Date:                Sat, 25 Apr 2020   Prob (F-statistic):           0.000315\n",
      "Time:                        21:06:02   Log-Likelihood:                 114.17\n",
      "No. Observations:                  60   AIC:                            -224.3\n",
      "Df Residuals:                      58   BIC:                            -220.1\n",
      "Df Model:                           1                                         \n",
      "Covariance Type:            nonrobust                                         \n",
      "==============================================================================\n",
      "                 coef    std err          t      P>|t|      [0.025      0.975]\n",
      "------------------------------------------------------------------------------\n",
      "Intercept     -0.0032      0.005     -0.659      0.513      -0.013       0.006\n",
      "exR_SK하이닉스     0.2018      0.053      3.832      0.000       0.096       0.307\n",
      "==============================================================================\n",
      "Omnibus:                        5.473   Durbin-Watson:                   2.122\n",
      "Prob(Omnibus):                  0.065   Jarque-Bera (JB):                4.496\n",
      "Skew:                          -0.568   Prob(JB):                        0.106\n",
      "Kurtosis:                       3.714   Cond. No.                         11.1\n",
      "==============================================================================\n",
      "\n",
      "Warnings:\n",
      "[1] Standard Errors assume that the covariance matrix of the errors is correctly specified.\n"
     ]
    },
    {
     "data": {
      "image/png": "[encoded data removed]",
      "text/plain": [
       "<Figure size 432x288 with 1 Axes>"
      ]
     },
     "metadata": {
      "needs_background": "light"
     },
     "output_type": "display_data"
    },
    {
     "name": "stdout",
     "output_type": "stream",
     "text": [
      "                            OLS Regression Results                            \n",
      "==============================================================================\n",
      "Dep. Variable:               KOSPI200   R-squared:                       0.233\n",
      "Model:                            OLS   Adj. R-squared:                  0.220\n",
      "Method:                 Least Squares   F-statistic:                     17.66\n",
      "Date:                Sat, 25 Apr 2020   Prob (F-statistic):           9.21e-05\n",
      "Time:                        21:06:02   Log-Likelihood:                 115.37\n",
      "No. Observations:                  60   AIC:                            -226.7\n",
      "Df Residuals:                      58   BIC:                            -222.6\n",
      "Df Model:                           1                                         \n",
      "Covariance Type:            nonrobust                                         \n",
      "==============================================================================\n",
      "                 coef    std err          t      P>|t|      [0.025      0.975]\n",
      "------------------------------------------------------------------------------\n",
      "Intercept     -0.0020      0.005     -0.422      0.674      -0.011       0.007\n",
      "exR_NAVER      0.2292      0.055      4.203      0.000       0.120       0.338\n",
      "==============================================================================\n",
      "Omnibus:                        6.437   Durbin-Watson:                   1.842\n",
      "Prob(Omnibus):                  0.040   Jarque-Bera (JB):                5.533\n",
      "Skew:                          -0.694   Prob(JB):                       0.0629\n",
      "Kurtosis:                       3.533   Cond. No.                         11.7\n",
      "==============================================================================\n",
      "\n",
      "Warnings:\n",
      "[1] Standard Errors assume that the covariance matrix of the errors is correctly specified.\n"
     ]
    }
   ],
   "source": [
    "beta1, alpha1, r_squared1, residual_SD1 = regression_and_print_result(name1)\n",
    "beta2, alpha2, r_squared2, residual_SD2 = regression_and_print_result(name2)\n",
    "beta3, alpha3, r_squared3, residual_SD3 = regression_and_print_result(name3)"
   ]
  },
  {
   "cell_type": "markdown",
   "metadata": {},
   "source": [
    "### b번 정답"
   ]
  },
  {
   "cell_type": "code",
   "execution_count": 54,
   "metadata": {},
   "outputs": [
    {
     "name": "stdout",
     "output_type": "stream",
     "text": [
      "삼성전자\n",
      "beta : 0.460\n",
      "alpha : -0.006\n",
      "r_squared : 0.641\n",
      "residual_standard_deviation : 0.058\n",
      "\n",
      "SK하이닉스\n",
      "beta : 0.202\n",
      "alpha : -0.004\n",
      "r_squared : 0.203\n",
      "residual_standard_deviation : 0.070\n",
      "\n",
      "NAVER\n",
      "beta : 0.229\n",
      "alpha : -0.003\n",
      "r_squared : 0.234\n",
      "residual_standard_deviation : 0.067\n",
      "\n"
     ]
    }
   ],
   "source": [
    "print('%s\\nbeta : %.3f\\nalpha : %.3f\\nr_squared : %.3f\\nresidual_standard_deviation : %.3f\\n' %(name1, beta1, alpha1, r_squared1, residual_SD1))\n",
    "print('%s\\nbeta : %.3f\\nalpha : %.3f\\nr_squared : %.3f\\nresidual_standard_deviation : %.3f\\n' %(name2, beta2, alpha2, r_squared2, residual_SD2))\n",
    "print('%s\\nbeta : %.3f\\nalpha : %.3f\\nr_squared : %.3f\\nresidual_standard_deviation : %.3f\\n' %(name3, beta3, alpha3, r_squared3, residual_SD3))"
   ]
  },
  {
   "cell_type": "markdown",
   "metadata": {},
   "source": [
    "### c번\n",
    "#### index의 risk premium은 4%(= 0.04), standard deviation은 20%(= 0.2)\n",
    "#### 임의로 정하는 alpha 값은 다음과 같음."
   ]
  },
  {
   "cell_type": "code",
   "execution_count": 60,
   "metadata": {},
   "outputs": [],
   "source": [
    "index_risk_premium = 0.04/12 # 문제 가정\n",
    "index_standard_deviation = 0.2/math.sqrt(12) # 문제 가정\n",
    "pred_alpha1 = 0.012 # 내가 정한 값\n",
    "pred_alpha2 = 0.0105 # 내가 정한 값\n",
    "pred_alpha3 = 0.001 # 내가 정한 값"
   ]
  },
  {
   "cell_type": "markdown",
   "metadata": {},
   "source": [
    "### d번\n",
    "### optimal risky portfolio를 구하라!"
   ]
  },
  {
   "cell_type": "code",
   "execution_count": 61,
   "metadata": {},
   "outputs": [],
   "source": [
    "# passive - active(종목 A, B, C) 비율 전체 케이스 구하기. \n",
    "_range = list(range(0, 101))\n",
    "range_all = [] #[M, A, B, C] -> M 는 market index 비율. A, B, C는 각 회사들의 비율\n",
    "for i in range(-100, 100):\n",
    "    for j in range(-100 , len(_range) - i):\n",
    "        for k in range(-100 , len(_range) - i - j):\n",
    "            range_all.append([i/100, j/100, k/100, (100-i-j-k)/100])"
   ]
  },
  {
   "cell_type": "markdown",
   "metadata": {},
   "source": [
    "이하 3장 PPT 64 page 식들을 이용하였음."
   ]
  },
  {
   "cell_type": "code",
   "execution_count": 62,
   "metadata": {},
   "outputs": [],
   "source": [
    "# 전체 과정에서 optimal(maximize sharpe ratio)을 찾는 과정.\n",
    "optimal_market_rate = 0\n",
    "optimal_a_rate = 0\n",
    "optimal_b_rate = 0\n",
    "optimal_c_rate = 0\n",
    "optimal_alpha = 0\n",
    "optimal_beta = 0\n",
    "optimal_expected_risk_premium = 0\n",
    "optimal_sharpe_ratio = 0\n",
    "optimal_residual_variance = 0\n",
    "for i in range(len(range_all)):\n",
    "    market_rate = range_all[i][0]\n",
    "    a_rate = range_all[i][1]\n",
    "    b_rate = range_all[i][2]\n",
    "    c_rate = range_all[i][3]\n",
    "    pf_alpha = a_rate*pred_alpha1 + b_rate*pred_alpha2 + c_rate*pred_alpha3\n",
    "    pf_beta = a_rate*beta1 + b_rate*beta2 + c_rate*beta3 # 이 beta가 회귀선의 기울기 쓰면 되는건가..?\n",
    "    pf_residual_variance = ((a_rate)**2)*(residual_SD1**2) + ((b_rate)**2)*(residual_SD2**2) + ((c_rate)**2)*(residual_SD3**2)\n",
    "    pf_expected_risk_premium = pf_alpha + pf_beta*index_risk_premium\n",
    "    pf_volatility = math.sqrt((pf_beta**2) * (index_standard_deviation**2) + pf_residual_variance)\n",
    "    pf_sharpe_ratio = pf_expected_risk_premium/pf_volatility\n",
    "    if(pf_sharpe_ratio > optimal_sharpe_ratio):\n",
    "        optimal_market_rate = market_rate\n",
    "        optimal_a_rate = a_rate\n",
    "        optimal_b_rate = b_rate\n",
    "        optimal_c_rate = c_rate\n",
    "        optimal_alpha = pf_alpha\n",
    "        optimal_beta = pf_beta\n",
    "        optimal_residual_variance = pf_residual_variance\n",
    "        optimal_expected_risk_premium = pf_expected_risk_premium\n",
    "        optimal_sharpe_ratio = pf_sharpe_ratio"
   ]
  },
  {
   "cell_type": "markdown",
   "metadata": {},
   "source": [
    "### d번 정답."
   ]
  },
  {
   "cell_type": "code",
   "execution_count": 63,
   "metadata": {
    "scrolled": true
   },
   "outputs": [
    {
     "name": "stdout",
     "output_type": "stream",
     "text": [
      "The optimal sharpe ratio is 0.256\n",
      "Here are the rates.\n",
      "market : -0.47\n",
      "삼성전자: 0.89\n",
      "SK하이닉스: 0.56\n",
      "NAVER: 0.02\n"
     ]
    }
   ],
   "source": [
    "print(\"The optimal sharpe ratio is %.3f\\nHere are the rates.\\nmarket : %.2f\\n%s: %.2f\\n%s: %.2f\\n%s: %.2f\" %(optimal_sharpe_ratio, optimal_market_rate, name1, optimal_a_rate, name2, optimal_b_rate, name3, optimal_c_rate))"
   ]
  },
  {
   "cell_type": "markdown",
   "metadata": {},
   "source": [
    "### e번. Information ratio 구하기. ( 3장 page 67 참고)"
   ]
  },
  {
   "cell_type": "code",
   "execution_count": 64,
   "metadata": {},
   "outputs": [],
   "source": [
    "information_ratio = optimal_alpha/math.sqrt(optimal_residual_variance)"
   ]
  },
  {
   "cell_type": "code",
   "execution_count": 66,
   "metadata": {},
   "outputs": [
    {
     "name": "stdout",
     "output_type": "stream",
     "text": [
      "Information ratio : 0.256\n"
     ]
    }
   ],
   "source": [
    "print(\"Information ratio : %.3f\" %(information_ratio))"
   ]
  },
  {
   "cell_type": "markdown",
   "metadata": {},
   "source": [
    "### f번. sharpe ratio comparison (optimal vs index)"
   ]
  },
  {
   "cell_type": "code",
   "execution_count": 67,
   "metadata": {},
   "outputs": [
    {
     "name": "stdout",
     "output_type": "stream",
     "text": [
      "Optimal Sharpe Ratio is 0.256\n",
      "Index Sharpe Ratio is 0.058\n"
     ]
    }
   ],
   "source": [
    "print('Optimal Sharpe Ratio is %.3f\\nIndex Sharpe Ratio is %.3f' %(optimal_sharpe_ratio, index_risk_premium/index_standard_deviation))"
   ]
  },
  {
   "cell_type": "code",
   "execution_count": null,
   "metadata": {},
   "outputs": [],
   "source": []
  }
 ],
 "metadata": {
  "kernelspec": {
   "display_name": "Python 3",
   "language": "python",
   "name": "python3"
  },
  "language_info": {
   "codemirror_mode": {
    "name": "ipython",
    "version": 3
   },
   "file_extension": ".py",
   "mimetype": "text/x-python",
   "name": "python",
   "nbconvert_exporter": "python",
   "pygments_lexer": "ipython3",
   "version": "3.6.8"
  }
 },
 "nbformat": 4,
 "nbformat_minor": 2
}
